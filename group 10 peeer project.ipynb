{
 "cells": [
  {
   "cell_type": "code",
   "execution_count": 1,
   "id": "b42317e0",
   "metadata": {},
   "outputs": [
    {
     "name": "stdout",
     "output_type": "stream",
     "text": [
      "Azubi store Sales Review\n",
      "-----------------------------------------------------------------------------|\n",
      "The total price average for all products is GHC33.33\n",
      "The new price list  is: [25, 20, 35, 15, 15, 30, 40, 45, 30]\n",
      "The total revenue generated from the products is GHC1400.00\n",
      "The average daily revenue generated from the products is GHC200.00\n",
      "The products that cost less than GHC30 with the new prices are: ['Sankofa Foods', 'Jamestown Coffee', 'Blue Skies Ice Cream', 'Fair Afric Chocolate']\n",
      "------------------------------------------------------------------------------\n"
     ]
    }
   ],
   "source": [
    "#  data\n",
    "products = [\"Sankofa Foods\", \"Jamestown Coffee\", \"Bioko Chocolate\", \"Blue Skies Ice Cream\", \"Fair Afric Chocolate\", \"Kawa Moka Coffee\", \"Aphro Spirit\", \"Mensado Bissap\", \"Voltic\"]\n",
    "prices = [30, 25, 40, 20, 20, 35, 45, 50, 35]\n",
    "last_week = [2, 3, 5, 8, 4, 4, 6, 2, 9]\n",
    "\n",
    "# calculate the total price average for all products\n",
    "total_price = sum(prices)\n",
    "average_price = total_price / len(products)\n",
    "\n",
    "# create a new price list that reduces the old prices by GHC5\n",
    "new_prices = [price - 5 for price in prices]\n",
    "\n",
    "# calculate the total revenue generated from the products\n",
    "revenue = sum([price * customer for price, customer in zip(prices, last_week)])\n",
    "\n",
    "# calculate the average daily revenue generated from the products\n",
    "average_daily_revenue = revenue / 7 \n",
    "\n",
    "# based on the new prices, which products are less than GHC30\n",
    "less_than_30 = [product for product, price in zip(products, new_prices) if price < 30]\n",
    "\n",
    "# output\n",
    "print(\"Azubi store Sales Review\")\n",
    "print(\"-----------------------------------------------------------------------------|\")\n",
    "print(\"The total price average for all products is GHC{:.2f}\".format(average_price))\n",
    "print(\"The new price list  is:\", new_prices)\n",
    "print(\"The total revenue generated from the products is GHC{:.2f}\".format(revenue))\n",
    "print(\"The average daily revenue generated from the products is GHC{:.2f}\".format(average_daily_revenue))\n",
    "print(\"The products that cost less than GHC30 with the new prices are:\", less_than_30)\n",
    "print(\"------------------------------------------------------------------------------\")"
   ]
  },
  {
   "cell_type": "code",
   "execution_count": null,
   "id": "dcc575cd",
   "metadata": {},
   "outputs": [],
   "source": []
  }
 ],
 "metadata": {
  "kernelspec": {
   "display_name": "Python 3 (ipykernel)",
   "language": "python",
   "name": "python3"
  },
  "language_info": {
   "codemirror_mode": {
    "name": "ipython",
    "version": 3
   },
   "file_extension": ".py",
   "mimetype": "text/x-python",
   "name": "python",
   "nbconvert_exporter": "python",
   "pygments_lexer": "ipython3",
   "version": "3.11.3"
  }
 },
 "nbformat": 4,
 "nbformat_minor": 5
}
